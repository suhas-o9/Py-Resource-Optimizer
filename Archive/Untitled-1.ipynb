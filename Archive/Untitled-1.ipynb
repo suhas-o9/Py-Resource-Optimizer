{
 "cells": [
  {
   "cell_type": "code",
   "execution_count": null,
   "metadata": {},
   "outputs": [],
   "source": [
    "import pandas as pd\n",
    "TotalCoresAvailable=21000\n",
    "def factorize(val):\n",
    "    comb= [(i, val / i, val) for i in range(1, int(val**0.5)+1) if val % i == 0]\n",
    "    perm=comb\n",
    "    for i in comb:\n",
    "        perm=perm+[(i[1], i[0], i[2])]\n",
    "    return perm    \n",
    "\n",
    "factors=[]\n",
    "for i in range(0,TotalCoresAvailable+1):\n",
    "    factors = factors + factorize(i)\n",
    "\n",
    "\n"
   ]
  },
  {
   "cell_type": "code",
   "execution_count": null,
   "metadata": {},
   "outputs": [],
   "source": [
    "# factors"
   ]
  },
  {
   "cell_type": "code",
   "execution_count": null,
   "metadata": {},
   "outputs": [],
   "source": [
    "df=pd.DataFrame(factors, columns=[\"Exec\", \"Cores\", \"TotalCoresUsed\"])\n",
    "df=df.drop_duplicates([\"Exec\", \"Cores\"])\n",
    "df"
   ]
  },
  {
   "cell_type": "code",
   "execution_count": null,
   "metadata": {},
   "outputs": [],
   "source": [
    "df.to_csv(\"factors.csv\")"
   ]
  },
  {
   "cell_type": "code",
   "execution_count": 2,
   "metadata": {},
   "outputs": [
    {
     "name": "stdout",
     "output_type": "stream",
     "text": [
      "339641600\n",
      "70925505\n"
     ]
    }
   ],
   "source": [
    "import numpy as np\n",
    "import pandas as pd\n",
    "VM=pd.read_csv(\"../data/VM_list.csv\")[[\"Cores\", \"Memory\"]]\n",
    "factor_list=pd.read_csv(\"factors.csv\")[[\"Exec\", \"Cores\"]]\n",
    "node_range = pd.DataFrame(range(1,201), columns = [\"node_count\"])\n",
    "df1 = VM.merge(node_range, how='cross')\n",
    "df2=df1.merge(factor_list, how='cross')\n",
    "print(len(df2))\n",
    "df2[\"TotalAvailableCores\"] = df2.Cores_x * df2.node_count\n",
    "df2[\"TotalCoresUsed\"] = df2.Exec * df2.Cores_y\n",
    "mask = df2.TotalCoresUsed <= df2.TotalAvailableCores\n",
    "df2=df2[mask]\n",
    "print(len(df2))\n",
    "df2=df2.reset_index()[[\"Cores_x\", \"Memory\", \"node_count\", \"Exec\", \"Cores_y\"]]\n",
    "df2=df2.astype({\"Cores_x\":\"int8\", \"Memory\":\"int16\", \"node_count\":\"int16\",\"Exec\":\"int16\", \"Cores_y\":\"int16\"})\n",
    "df2.to_parquet(\"factors.parquet\")"
   ]
  },
  {
   "cell_type": "code",
   "execution_count": null,
   "metadata": {},
   "outputs": [],
   "source": []
  }
 ],
 "metadata": {
  "kernelspec": {
   "display_name": "Python 3.9.12 ('base')",
   "language": "python",
   "name": "python3"
  },
  "language_info": {
   "codemirror_mode": {
    "name": "ipython",
    "version": 3
   },
   "file_extension": ".py",
   "mimetype": "text/x-python",
   "name": "python",
   "nbconvert_exporter": "python",
   "pygments_lexer": "ipython3",
   "version": "3.9.12"
  },
  "orig_nbformat": 4,
  "vscode": {
   "interpreter": {
    "hash": "e4236c60f1c6bbb4ca31f13d8e2a79ca58c847f811ba8b8f7d91cd855b2242e9"
   }
  }
 },
 "nbformat": 4,
 "nbformat_minor": 2
}
