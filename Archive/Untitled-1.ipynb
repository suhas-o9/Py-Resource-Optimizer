{
 "cells": [
  {
   "cell_type": "code",
   "execution_count": null,
   "metadata": {},
   "outputs": [],
   "source": [
    "import pandas as pd\n",
    "TotalCoresAvailable=21000\n",
    "def factorize(val):\n",
    "    comb= [(i, val / i, val) for i in range(1, int(val**0.5)+1) if val % i == 0]\n",
    "    perm=comb\n",
    "    for i in comb:\n",
    "        perm=perm+[(i[1], i[0], i[2])]\n",
    "    return perm    \n",
    "\n",
    "factors=[]\n",
    "for i in range(0,TotalCoresAvailable+1):\n",
    "    factors = factors + factorize(i)\n",
    "\n",
    "df=pd.DataFrame(factors, columns=[\"Exec\", \"Cores\", \"TotalCoresUsed\"])\n",
    "df=df.drop_duplicates([\"Exec\", \"Cores\"])\n",
    "df\n",
    "\n",
    "df.to_csv(\"factors.csv\")"
   ]
  },
  {
   "cell_type": "code",
   "execution_count": 60,
   "metadata": {},
   "outputs": [],
   "source": [
    "import numpy as np\n",
    "import pandas as pd\n",
    "VM_list=pd.read_csv(\"../data/VM_Azure.csv\")[[\"Cores\", \"Memory\", \"name\"]]\n",
    "\n",
    "def factors(VM, name):\n",
    "    \n",
    "    factor_list=pd.read_csv(\"factors.csv\")[[\"Exec\", \"Cores\"]]\n",
    "    node_range = pd.DataFrame(range(1,201), columns = [\"node_count\"])\n",
    "    # df_temp=pd.DataFrame(row, columns=[\"Cores\", \"Memory\", \"name\"])\n",
    "    df_temp=pd.DataFrame.from_dict(dict(VM), orient='columns')\n",
    "    # print(df_temp)\n",
    "    df1 = VM.merge(node_range, how='cross')\n",
    "    df2=df1.merge(factor_list, how='cross')\n",
    "    # print(df2.head())\n",
    "    df2[\"TotalAvailableCores\"] = df2.Cores_x * df2.node_count\n",
    "    df2[\"TotalCoresUsed\"] = df2.Exec * df2.Cores_y\n",
    "    mask = df2.TotalCoresUsed <= df2.TotalAvailableCores\n",
    "    df2=df2[mask]\n",
    "    # print(len(df2))\n",
    "    df2=df2.reset_index()[[\"Cores_x\", \"Memory\", \"node_count\", \"Exec\", \"Cores_y\"]]\n",
    "    df2=df2.astype({\"Cores_x\":\"int8\", \"Memory\":\"int16\", \"node_count\":\"int16\",\"Exec\":\"int16\", \"Cores_y\":\"int16\"})\n",
    "    \n",
    "    df2.to_parquet(f\"factors_{name}.parquet\")\n",
    "\n",
    "for i in range(0, len(VM_list)):\n",
    "    df=VM_list[VM_list.index==i].reset_index()\n",
    "    name=df[\"name\"][0]\n",
    "    # df.to_csv(f\"VM_{name}.csv\")\n",
    "    factors(df, name)\n",
    "# print(VM_list)"
   ]
  },
  {
   "cell_type": "code",
   "execution_count": 68,
   "metadata": {},
   "outputs": [
    {
     "name": "stdout",
     "output_type": "stream",
     "text": [
      "ID of process running main program: 8592\n",
      "Main thread name: MainThread\n",
      "Task 2 assigned to thread: t6\n",
      "ID of process running task 2: 8592\n",
      "Task 2 assigned to thread: t4\n",
      "ID of process running task 2: 8592\n",
      "Task 1 assigned to thread: t3\n",
      "ID of process running task 1: 8592\n",
      "Task 2 assigned to thread: t2\n",
      "ID of process running task 2: 8592\n",
      "Task 1 assigned to thread: t5\n",
      "ID of process running task 1: 8592\n",
      "Task 1 assigned to thread: t1\n",
      "ID of process running task 1: 8592\n",
      "5.019036\n"
     ]
    }
   ],
   "source": [
    "# Python program to illustrate the concept\n",
    "# of threading\n",
    "import threading\n",
    "import os\n",
    "import time \n",
    "from datetime import datetime as dt\n",
    "\n",
    "def task1():\n",
    "    time.sleep(5)\n",
    "    print(\"Task 1 assigned to thread: {}\".format(threading.current_thread().name))\n",
    "    print(\"ID of process running task 1: {}\".format(os.getpid()))\n",
    " \n",
    "def task2():\n",
    "    time.sleep(5)\n",
    "    # print(__name__)\n",
    "    print(\"Task 2 assigned to thread: {}\".format(threading.current_thread().name))\n",
    "    print(\"ID of process running task 2: {}\".format(os.getpid()))\n",
    " \n",
    "if __name__ == \"__main__\":\n",
    "    start=dt.now()\n",
    "    # print ID of current process\n",
    "    print(\"ID of process running main program: {}\".format(os.getpid()))\n",
    " \n",
    "    # print name of main thread\n",
    "    print(\"Main thread name: {}\".format(threading.current_thread().name))\n",
    " \n",
    "    # creating threads\n",
    "    t1 = threading.Thread(target=task1, name='t1')\n",
    "    t2 = threading.Thread(target=task2, name='t2') \n",
    "    t3 = threading.Thread(target=task1, name='t3')\n",
    "    t4 = threading.Thread(target=task2, name='t4')\n",
    "    t5 = threading.Thread(target=task1, name='t5')\n",
    "    t6 = threading.Thread(target=task2, name='t6')\n",
    "    \n",
    "    # starting threads\n",
    "    t1.start()\n",
    "    t2.start()\n",
    "    t3.start()\n",
    "    t4.start()\n",
    "    t5.start()\n",
    "    t6.start()\n",
    "\n",
    "    # wait until all threads finish\n",
    "    t1.join()\n",
    "    t2.join()\n",
    "    t3.join()\n",
    "    t4.join()\n",
    "    t5.join()\n",
    "    t6.join()\n",
    "\n",
    "    end=dt.now()\n",
    "    runtime=(end-start).total_seconds()\n",
    "    print(runtime)"
   ]
  },
  {
   "cell_type": "code",
   "execution_count": 66,
   "metadata": {},
   "outputs": [
    {
     "data": {
      "text/plain": [
       "'__main__'"
      ]
     },
     "execution_count": 66,
     "metadata": {},
     "output_type": "execute_result"
    }
   ],
   "source": [
    "__name__"
   ]
  }
 ],
 "metadata": {
  "kernelspec": {
   "display_name": "Python 3.9.12 ('base')",
   "language": "python",
   "name": "python3"
  },
  "language_info": {
   "codemirror_mode": {
    "name": "ipython",
    "version": 3
   },
   "file_extension": ".py",
   "mimetype": "text/x-python",
   "name": "python",
   "nbconvert_exporter": "python",
   "pygments_lexer": "ipython3",
   "version": "3.9.12"
  },
  "orig_nbformat": 4,
  "vscode": {
   "interpreter": {
    "hash": "e4236c60f1c6bbb4ca31f13d8e2a79ca58c847f811ba8b8f7d91cd855b2242e9"
   }
  }
 },
 "nbformat": 4,
 "nbformat_minor": 2
}
