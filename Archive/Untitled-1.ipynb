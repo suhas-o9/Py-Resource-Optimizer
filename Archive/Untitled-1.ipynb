{
 "cells": [
  {
   "cell_type": "code",
   "execution_count": 1,
   "metadata": {},
   "outputs": [],
   "source": [
    "import pandas as pd\n",
    "TotalCoresAvailable=21000\n",
    "def factorize(val):\n",
    "    comb= [(i, val / i, val) for i in range(1, int(val**0.5)+1) if val % i == 0]\n",
    "    perm=comb\n",
    "    for i in comb:\n",
    "        perm=perm+[(i[1], i[0], i[2])]\n",
    "    return perm    \n",
    "\n",
    "factors=[]\n",
    "for i in range(0,TotalCoresAvailable+1):\n",
    "    factors = factors + factorize(i)\n",
    "\n",
    "\n"
   ]
  },
  {
   "cell_type": "code",
   "execution_count": 2,
   "metadata": {},
   "outputs": [],
   "source": [
    "# factors"
   ]
  },
  {
   "cell_type": "code",
   "execution_count": 3,
   "metadata": {},
   "outputs": [
    {
     "data": {
      "text/html": [
       "<div>\n",
       "<style scoped>\n",
       "    .dataframe tbody tr th:only-of-type {\n",
       "        vertical-align: middle;\n",
       "    }\n",
       "\n",
       "    .dataframe tbody tr th {\n",
       "        vertical-align: top;\n",
       "    }\n",
       "\n",
       "    .dataframe thead th {\n",
       "        text-align: right;\n",
       "    }\n",
       "</style>\n",
       "<table border=\"1\" class=\"dataframe\">\n",
       "  <thead>\n",
       "    <tr style=\"text-align: right;\">\n",
       "      <th></th>\n",
       "      <th>Exec</th>\n",
       "      <th>Cores</th>\n",
       "      <th>TotalCoresUsed</th>\n",
       "    </tr>\n",
       "  </thead>\n",
       "  <tbody>\n",
       "    <tr>\n",
       "      <th>0</th>\n",
       "      <td>1.0</td>\n",
       "      <td>1.0</td>\n",
       "      <td>1</td>\n",
       "    </tr>\n",
       "    <tr>\n",
       "      <th>2</th>\n",
       "      <td>1.0</td>\n",
       "      <td>2.0</td>\n",
       "      <td>2</td>\n",
       "    </tr>\n",
       "    <tr>\n",
       "      <th>3</th>\n",
       "      <td>2.0</td>\n",
       "      <td>1.0</td>\n",
       "      <td>2</td>\n",
       "    </tr>\n",
       "    <tr>\n",
       "      <th>4</th>\n",
       "      <td>1.0</td>\n",
       "      <td>3.0</td>\n",
       "      <td>3</td>\n",
       "    </tr>\n",
       "    <tr>\n",
       "      <th>5</th>\n",
       "      <td>3.0</td>\n",
       "      <td>1.0</td>\n",
       "      <td>3</td>\n",
       "    </tr>\n",
       "    <tr>\n",
       "      <th>...</th>\n",
       "      <td>...</td>\n",
       "      <td>...</td>\n",
       "      <td>...</td>\n",
       "    </tr>\n",
       "    <tr>\n",
       "      <th>212415</th>\n",
       "      <td>210.0</td>\n",
       "      <td>100.0</td>\n",
       "      <td>21000</td>\n",
       "    </tr>\n",
       "    <tr>\n",
       "      <th>212416</th>\n",
       "      <td>200.0</td>\n",
       "      <td>105.0</td>\n",
       "      <td>21000</td>\n",
       "    </tr>\n",
       "    <tr>\n",
       "      <th>212417</th>\n",
       "      <td>175.0</td>\n",
       "      <td>120.0</td>\n",
       "      <td>21000</td>\n",
       "    </tr>\n",
       "    <tr>\n",
       "      <th>212418</th>\n",
       "      <td>168.0</td>\n",
       "      <td>125.0</td>\n",
       "      <td>21000</td>\n",
       "    </tr>\n",
       "    <tr>\n",
       "      <th>212419</th>\n",
       "      <td>150.0</td>\n",
       "      <td>140.0</td>\n",
       "      <td>21000</td>\n",
       "    </tr>\n",
       "  </tbody>\n",
       "</table>\n",
       "<p>212276 rows × 3 columns</p>\n",
       "</div>"
      ],
      "text/plain": [
       "         Exec  Cores  TotalCoresUsed\n",
       "0         1.0    1.0               1\n",
       "2         1.0    2.0               2\n",
       "3         2.0    1.0               2\n",
       "4         1.0    3.0               3\n",
       "5         3.0    1.0               3\n",
       "...       ...    ...             ...\n",
       "212415  210.0  100.0           21000\n",
       "212416  200.0  105.0           21000\n",
       "212417  175.0  120.0           21000\n",
       "212418  168.0  125.0           21000\n",
       "212419  150.0  140.0           21000\n",
       "\n",
       "[212276 rows x 3 columns]"
      ]
     },
     "execution_count": 3,
     "metadata": {},
     "output_type": "execute_result"
    }
   ],
   "source": [
    "df=pd.DataFrame(factors, columns=[\"Exec\", \"Cores\", \"TotalCoresUsed\"])\n",
    "df=df.drop_duplicates([\"Exec\", \"Cores\"])\n",
    "df"
   ]
  },
  {
   "cell_type": "code",
   "execution_count": 4,
   "metadata": {},
   "outputs": [],
   "source": [
    "df.to_csv(\"factors.csv\")"
   ]
  },
  {
   "cell_type": "code",
   "execution_count": 5,
   "metadata": {},
   "outputs": [
    {
     "name": "stdout",
     "output_type": "stream",
     "text": [
      "382096800\n",
      "75219523\n"
     ]
    }
   ],
   "source": [
    "import numpy as np\n",
    "import pandas as pd\n",
    "VM=pd.read_csv(\"../data/VM_list.csv\")[[\"Cores\", \"Memory\"]]\n",
    "factor_list=pd.read_csv(\"factors.csv\")[[\"Exec\", \"Cores\"]]\n",
    "node_range = pd.DataFrame(range(1,201), columns = [\"node_count\"])\n",
    "df1 = VM.merge(node_range, how='cross')\n",
    "df2=df1.merge(factor_list, how='cross')\n",
    "print(len(df2))\n",
    "df2[\"TotalAvailableCores\"] = df2.Cores_x * df2.node_count\n",
    "df2[\"TotalCoresUsed\"] = df2.Exec * df2.Cores_y\n",
    "mask = df2.TotalCoresUsed <= df2.TotalAvailableCores\n",
    "df2=df2[mask]\n",
    "print(len(df2))\n",
    "df2=df2.reset_index()[[\"Cores_x\", \"Memory\", \"node_count\", \"Exec\", \"Cores_y\"]]\n",
    "df2=df2.astype({\"Cores_x\":\"int8\", \"Memory\":\"int16\", \"node_count\":\"int16\",\"Exec\":\"int16\", \"Cores_y\":\"int16\"})\n",
    "df2.to_parquet(\"factors.parquet\")"
   ]
  },
  {
   "cell_type": "code",
   "execution_count": null,
   "metadata": {},
   "outputs": [],
   "source": []
  }
 ],
 "metadata": {
  "kernelspec": {
   "display_name": "Python 3.9.12 ('base')",
   "language": "python",
   "name": "python3"
  },
  "language_info": {
   "codemirror_mode": {
    "name": "ipython",
    "version": 3
   },
   "file_extension": ".py",
   "mimetype": "text/x-python",
   "name": "python",
   "nbconvert_exporter": "python",
   "pygments_lexer": "ipython3",
   "version": "3.9.12"
  },
  "orig_nbformat": 4,
  "vscode": {
   "interpreter": {
    "hash": "e4236c60f1c6bbb4ca31f13d8e2a79ca58c847f811ba8b8f7d91cd855b2242e9"
   }
  }
 },
 "nbformat": 4,
 "nbformat_minor": 2
}
